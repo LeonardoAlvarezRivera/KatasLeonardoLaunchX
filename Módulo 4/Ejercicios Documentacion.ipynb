{
 "cells": [
  {
   "cell_type": "markdown",
   "metadata": {},
   "source": [
    "## Inmutabilidad de Cadenas"
   ]
  },
  {
   "cell_type": "code",
   "execution_count": 8,
   "metadata": {},
   "outputs": [
    {
     "name": "stdout",
     "output_type": "stream",
     "text": [
      "The moon has no atmosphere.\n",
      "The moon has no atmosphere.No sound can be heard on the Moon.\n"
     ]
    }
   ],
   "source": [
    "\n",
    "fact = \"The moon has no atmosphere.\"\n",
    "fact + \"No sound can be heard on the Moon.\" #Esto no le asigna el nuevo texto al fact solo se concatenan pero nunca se asigna a fact\n",
    "\n",
    "print(fact)\n",
    "\n",
    "#concatenado correcto\n",
    "two_facts = fact + \"No sound can be heard on the Moon.\" \n",
    "\n",
    "print(two_facts)"
   ]
  },
  {
   "cell_type": "markdown",
   "metadata": {},
   "source": [
    "## Uso de comillas"
   ]
  },
  {
   "cell_type": "code",
   "execution_count": 11,
   "metadata": {},
   "outputs": [
    {
     "name": "stdout",
     "output_type": "stream",
     "text": [
      "We only see about 60% of the Moon's surface\n"
     ]
    }
   ],
   "source": [
    "moon_radius = \"The Moon has a radius of 1,080 miles\"\n",
    "phrase_1 = 'The \"near side\" is the part of the Moon that faces the Earth'\n",
    "phrase_2 = \"We only see about 60% of the Moon's surface\"\n",
    "\n",
    "print(phrase_2)"
   ]
  },
  {
   "cell_type": "markdown",
   "metadata": {},
   "source": [
    "## Error de sintaxis de cadena"
   ]
  },
  {
   "cell_type": "code",
   "execution_count": 15,
   "metadata": {},
   "outputs": [
    {
     "ename": "SyntaxError",
     "evalue": "invalid syntax (191699713.py, line 1)",
     "output_type": "error",
     "traceback": [
      "\u001b[0;36m  Input \u001b[0;32mIn [15]\u001b[0;36m\u001b[0m\n\u001b[0;31m    'We only see about 60% of the Moon's surface'\u001b[0m\n\u001b[0m                                       ^\u001b[0m\n\u001b[0;31mSyntaxError\u001b[0m\u001b[0;31m:\u001b[0m invalid syntax\n"
     ]
    }
   ],
   "source": [
    "'We only see about 60% of the Moon's surface'\n",
    "\n"
   ]
  },
  {
   "cell_type": "markdown",
   "metadata": {},
   "source": [
    "## Comillas triples"
   ]
  },
  {
   "cell_type": "code",
   "execution_count": 16,
   "metadata": {},
   "outputs": [
    {
     "name": "stdout",
     "output_type": "stream",
     "text": [
      "We only see about 60% of the Moon's surface, this is known as the \"near side\".\n"
     ]
    }
   ],
   "source": [
    "text = \"\"\"We only see about 60% of the Moon's surface, this is known as the \"near side\".\"\"\"\n",
    "\n",
    "print(text)"
   ]
  },
  {
   "cell_type": "markdown",
   "metadata": {},
   "source": [
    "## Texto multilínea"
   ]
  },
  {
   "cell_type": "code",
   "execution_count": 18,
   "metadata": {},
   "outputs": [
    {
     "name": "stdout",
     "output_type": "stream",
     "text": [
      "Facts about the Moon: \n",
      " There is no atmosphere. \n",
      " There is no sound.\n",
      "Facts about the Moon:\n",
      "There is no atmosphere.\n",
      "There is no sound.\n",
      "\n"
     ]
    }
   ],
   "source": [
    "multiline_break_line = \"Facts about the Moon: \\n There is no atmosphere. \\n There is no sound.\"\n",
    "\n",
    "print(multiline_break_line)\n",
    "\n",
    "multiline_triple_quotes = \"\"\"Facts about the Moon:\n",
    "There is no atmosphere.\n",
    "There is no sound.\n",
    "\"\"\"\n",
    "\n",
    "print(multiline_triple_quotes)"
   ]
  },
  {
   "cell_type": "markdown",
   "metadata": {},
   "source": [
    "## Métodos string en Python"
   ]
  },
  {
   "cell_type": "code",
   "execution_count": 34,
   "metadata": {},
   "outputs": [
    {
     "name": "stdout",
     "output_type": "stream",
     "text": [
      "Temperatures And Facts About The Moon\n",
      "['Daylight:', '260', 'F', 'Nighttime:', '-280', 'F']\n",
      "['Daylight: 260 F', 'Nighttime: -280 F']\n",
      "10\n",
      "-1\n",
      "3\n",
      "daylight: 260 f\n",
      "nighttime: -280 f\n",
      "DAYLIGHT: 260 F\n",
      "NIGHTTIME: -280 F\n",
      "['Daylight', ' 260 F\\nNighttime', ' -280 F']\n",
      " -280 F\n",
      "30C\n"
     ]
    }
   ],
   "source": [
    "#Cadena en formato de título\n",
    "heading = 'temperatures and facts about the moon'\n",
    "\n",
    "print(heading.title())\n",
    "\n",
    "#Dividir una cadena\n",
    "temperatures = '''Daylight: 260 F\n",
    "Nighttime: -280 F'''\n",
    "\n",
    "print(temperatures.split())\n",
    "print(temperatures.split(\"\\n\"))\n",
    "\n",
    "#Buscar una cadena\n",
    "\"Moon\" in 'This text will describe facts about the Moon'\n",
    "\n",
    "#Posición de palabra en cadena\n",
    "print(temperatures.find('260'))\n",
    "print(temperatures.find(\"Moon\"))\n",
    "\n",
    "#Número de apariciones de palabra en cadena\n",
    "print(temperatures.count(\"t\"))\n",
    "\n",
    "#Lower y Upper\n",
    "print(temperatures.lower())\n",
    "print(temperatures.upper())\n",
    "\n",
    "#Comprobar el contenido\n",
    "parts = temperatures.split(\":\")\n",
    "print(parts)\n",
    "print(parts[-1])\n",
    "\n",
    "#Comprobar de valores\n",
    "mars_temperature = 'The highest temperature on Mars is about 30C'\n",
    "for item in mars_temperature.split():\n",
    "    if item.isnumeric() or item.endswith(\"C\"):\n",
    "        print(item)\n"
   ]
  },
  {
   "cell_type": "markdown",
   "metadata": {},
   "source": [
    "## Transformar Texto"
   ]
  },
  {
   "cell_type": "code",
   "execution_count": 8,
   "metadata": {},
   "outputs": [
    {
     "name": "stdout",
     "output_type": "stream",
     "text": [
      "Saturn has a daytime temperature of -170 degrees C, while Mars has -28 C.\n",
      "False\n",
      "True\n",
      "The Moon is drifting away from the Earth.\n",
      "On average, the Moon is moving about 4cm every year\n"
     ]
    }
   ],
   "source": [
    "text= 'Saturn has a daytime temperature of -170 degrees Celsius, while Mars has -28 Celsius.'\n",
    "\n",
    "print(text.replace('Celsius','C'))\n",
    "\n",
    "text = 'Temperatures on the Moon can vary wildly.'\n",
    "print('temperatures' in text)\n",
    "print('temperatures' in text.lower())\n",
    "\n",
    "#Unir texto\n",
    "moon_facts = ['The Moon is drifting away from the Earth.', 'On average, the Moon is moving about 4cm every year']\n",
    "print('\\n'.join(moon_facts))\n",
    "\n"
   ]
  },
  {
   "cell_type": "markdown",
   "metadata": {},
   "source": [
    "## Formato de cadenas de Python\n"
   ]
  },
  {
   "cell_type": "code",
   "execution_count": 12,
   "metadata": {},
   "outputs": [
    {
     "name": "stdout",
     "output_type": "stream",
     "text": [
      "On the Moon, you would weigh about 1/6 of your weight on Earth\n",
      "Both sides of the Moon get the same amount of sunlight,\n",
      "    but only one side is seen from Earth because\n",
      "    the Moon rotates around its own axis when it orbits Earth.\n",
      "You are lighter on the Moon, because on the Moon you would weigh about 1/6 of your weight on Earth\n",
      "You are lighter on the Moon, because on the Moon you would weigh about 1/6 of your weight on Earth\n"
     ]
    }
   ],
   "source": [
    "#Formato con signo de porcentaje %\n",
    "mass_percentaje = '1/6'\n",
    "print('On the Moon, you would weigh about %s of your weight on Earth' % mass_percentaje)\n",
    "\n",
    "#Imprimir múltiples valores en cadena\n",
    "print(\"\"\"Both sides of the %s get the same amount of sunlight,\n",
    "    but only one side is seen from %s because\n",
    "    the %s rotates around its own axis when it orbits %s.\"\"\" % ('Moon', 'Earth', 'Moon', 'Earth'))\n",
    "\n",
    "#Dar formato a un texto\n",
    "print(\"\"\"You are lighter on the {0}, because on the {0} you would weigh about {1} of your weight on Earth\"\"\".format(\"Moon\", mass_percentaje))\n",
    "\n",
    "#Dar formato a un texto con mejor legibilidad\n",
    "print(\"\"\"You are lighter on the {moon}, because on the {moon} you would weigh about {mass} of your weight on Earth\"\"\".format(moon=\"Moon\",mass= mass_percentaje))\n"
   ]
  },
  {
   "cell_type": "markdown",
   "metadata": {},
   "source": [
    "## Acerca de las cadenas con f"
   ]
  },
  {
   "cell_type": "code",
   "execution_count": 13,
   "metadata": {},
   "outputs": [
    {
     "name": "stdout",
     "output_type": "stream",
     "text": [
      "On the Moon, you would weigh about 1/6 of your weight on Earth\n",
      "On the Moon, you would weigh about 16.7 of your weight on Earth\n"
     ]
    }
   ],
   "source": [
    "print(f'On the Moon, you would weigh about {mass_percentaje} of your weight on Earth')\n",
    "#se puede poner el valor que retorna una función\n",
    "print(f'On the Moon, you would weigh about {round(100/6,1)} of your weight on Earth')"
   ]
  }
 ],
 "metadata": {
  "interpreter": {
   "hash": "aee8b7b246df8f9039afb4144a1f6fd8d2ca17a180786b69acc140d282b71a49"
  },
  "kernelspec": {
   "display_name": "Python 3.9.10 64-bit",
   "language": "python",
   "name": "python3"
  },
  "language_info": {
   "codemirror_mode": {
    "name": "ipython",
    "version": 3
   },
   "file_extension": ".py",
   "mimetype": "text/x-python",
   "name": "python",
   "nbconvert_exporter": "python",
   "pygments_lexer": "ipython3",
   "version": "3.9.10"
  },
  "orig_nbformat": 4
 },
 "nbformat": 4,
 "nbformat_minor": 2
}
