{
 "cells": [
  {
   "cell_type": "markdown",
   "metadata": {},
   "source": [
    "## Ejercicio 1 - Transformar cadenas"
   ]
  },
  {
   "cell_type": "code",
   "execution_count": 24,
   "metadata": {},
   "outputs": [
    {
     "name": "stdout",
     "output_type": "stream",
     "text": [
      " \n",
      "On average, the Moon moves 4cm away from the Earth every year\n",
      " The highest daylight temperature of the Moon is 127 Celsius\n"
     ]
    }
   ],
   "source": [
    "text = \"\"\"Interesting facts about the Moon. The Moon is Earth's only satellite. There are several interesting facts about the Moon and how it affects life here on Earth. \n",
    "On average, the Moon moves 4cm away from the Earth every year. This yearly drift is not significant enough to cause immediate effects on Earth. The highest daylight temperature of the Moon is 127 C.\"\"\"\n",
    "\n",
    "#Texto dividido en oraciones\n",
    "textSplit = text.split(\".\")\n",
    "\n",
    "#Palabras a buscar\n",
    "key_words = [\"average\",\"temperature\",\"distance\"]\n",
    "\n",
    "for sentence in textSplit:#ciclo para la lista de frases\n",
    "    if \"Moon\" in sentence:# si alguna habla sobre la palabra \"Moon\"\n",
    "        for keyword in key_words:# se realiza un ciclo para ver si la sentencia tiene algunas de las palabras clave\n",
    "            if keyword in sentence:# si tiene alguna de las palabras clave se imprime\n",
    "                print(sentence.replace(\"C\", \"Celsius\"))#en caso de que tenga C se cambia por Celsius\n",
    "\n"
   ]
  },
  {
   "cell_type": "markdown",
   "metadata": {},
   "source": [
    "## Ejercicio 2 - Formateando Cadenas"
   ]
  },
  {
   "cell_type": "code",
   "execution_count": 47,
   "metadata": {},
   "outputs": [
    {
     "name": "stdout",
     "output_type": "stream",
     "text": [
      "Gravity Facts about Ganímedes\n",
      "-----------------------------------------------------------------------------------------------------\n",
      "Planet Name: Marte\n",
      "Gravity on Ganímedes: 1.4300000000000002 m/s2\n",
      "\n"
     ]
    }
   ],
   "source": [
    "# Datos con los que vas a trabajar\n",
    "name = \"Ganímedes\"\n",
    "gravity = 0.00143 # in kms\n",
    "planet = \"Marte\"\n",
    "\n",
    "title = \"\"\"Gravity Facts about {}\"\"\".format(name.title())\n",
    "\n",
    "detalles =\"\"\"-----------------------------------------------------------------------------------------------------\n",
    "Planet Name: {planetTitle}\n",
    "Gravity on {nameTitle}: {gravityTitle} m/s2\n",
    "\"\"\".format(nameTitle = name.title(), planetTitle = planet.title(), gravityTitle = gravity*1000)\n",
    "\n",
    "template = f\"\"\"{title}\n",
    "{detalles}\"\"\"\n",
    "\n",
    "print(template)\n",
    "\n"
   ]
  }
 ],
 "metadata": {
  "interpreter": {
   "hash": "aee8b7b246df8f9039afb4144a1f6fd8d2ca17a180786b69acc140d282b71a49"
  },
  "kernelspec": {
   "display_name": "Python 3.9.10 64-bit",
   "language": "python",
   "name": "python3"
  },
  "language_info": {
   "codemirror_mode": {
    "name": "ipython",
    "version": 3
   },
   "file_extension": ".py",
   "mimetype": "text/x-python",
   "name": "python",
   "nbconvert_exporter": "python",
   "pygments_lexer": "ipython3",
   "version": "3.9.10"
  },
  "orig_nbformat": 4
 },
 "nbformat": 4,
 "nbformat_minor": 2
}
