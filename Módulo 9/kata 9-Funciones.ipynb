{
 "cells": [
  {
   "cell_type": "markdown",
   "metadata": {},
   "source": [
    "## Ejercicio: Uso de funciones en Python"
   ]
  },
  {
   "cell_type": "code",
   "execution_count": 12,
   "metadata": {},
   "outputs": [
    {
     "name": "stdout",
     "output_type": "stream",
     "text": [
      "El tanque Principal tiene 80% de combustible\n",
      "El tanque Externo tiene 70% de combustible\n",
      "El tanque Hidrogeno tiene 85% de combustible\n",
      "El promedio de combustible es : 78.33333333333333%\n"
     ]
    }
   ],
   "source": [
    "def fuelReport(**kwargs):\n",
    "    tanksValues = []\n",
    "    report = ''\n",
    "    for title, value in kwargs.items():\n",
    "        report += f\"El tanque {title} tiene {value}% de combustible\\n\"\n",
    "        tanksValues.append(value)\n",
    "\n",
    "    average = fuelAverage(tanksValues)\n",
    "    report += f\"El promedio de combustible es : {average}%\"\n",
    "    return report\n",
    "\n",
    "def fuelAverage(values):\n",
    "    average = sum(values) / len(values)\n",
    "    return average\n",
    "\n",
    "print(fuelReport(Principal= 80,Externo= 70,Hidrogeno= 85))\n"
   ]
  },
  {
   "cell_type": "markdown",
   "metadata": {},
   "source": [
    "## Ejercicio 2: Trabajo con argumentos de palabra clave"
   ]
  },
  {
   "cell_type": "code",
   "execution_count": 23,
   "metadata": {},
   "outputs": [
    {
     "name": "stdout",
     "output_type": "stream",
     "text": [
      "Reporte de misión:\n",
      "    Destino: Marte\n",
      "    Tiempo al destino: 46 minutos\n",
      "    Combustible Total: 26.0 litros\n",
      "    \n",
      "Reporte de misión:\n",
      "    Destino: Jupiter\n",
      "    Tiempo al destino: 399 minutos\n",
      "    Combustible Total: 138 litros\n",
      "    \n",
      "Reporte de misión:\n",
      "    Destino: Jupiter\n",
      "    Tiempo al destino: 399 minutos\n",
      "    Combustible Total: 138 litros\n",
      "        El tanque hidrogeno tiene 23 litros de combustible\n",
      "        El tanque principal tiene 45 litros de combustible\n",
      "        El tanque reserva tiene 70 litros de combustible\n",
      "\n"
     ]
    }
   ],
   "source": [
    "# Función con un informe preciso de la misión. Considera hora de prelanzamiento, tiempo de vuelo, destino, tanque externo y tanque interno\n",
    "def missionReport1(hora_prelanzamiento, tiempo_vuelo,destino,tanque_externo,tanque_interno):\n",
    "    return f\"\"\"Reporte de misión:\n",
    "    Destino: {destino}\n",
    "    Tiempo al destino: {tiempo_vuelo + hora_prelanzamiento} minutos\n",
    "    Combustible Total: {tanque_externo + tanque_interno} litros\n",
    "    \"\"\"\n",
    "\n",
    "def missionReport2(destino, *tiempo, **tanques):\n",
    "    return f\"\"\"Reporte de misión:\n",
    "    Destino: {destino}\n",
    "    Tiempo al destino: {sum(tiempo)} minutos\n",
    "    Combustible Total: {sum(tanques.values())} litros\n",
    "    \"\"\"\n",
    "\n",
    "\n",
    "def missionReport3(destino, *tiempo, **tanques):\n",
    "    tanksValues = []\n",
    "    report = f\"\"\"Reporte de misión:\n",
    "    Destino: {destino}\n",
    "    Tiempo al destino: {sum(tiempo)} minutos\n",
    "    Combustible Total: {sum(tanques.values())} litros\n",
    "\"\"\"\n",
    "    for title, value in tanques.items():\n",
    "        report += f\"        El tanque {title} tiene {value} litros de combustible\\n\"\n",
    "        tanksValues.append(value)\n",
    "    return report\n",
    "\n",
    "\n",
    "print(missionReport1(12,34,\"Marte\", 12.4,13.6))\n",
    "print(missionReport2(\"Jupiter\", 45, 34,320,hidrogeno = 23,principal= 45, reserva= 70))\n",
    "\n",
    "print(missionReport3(\"Jupiter\", 45, 34,320,hidrogeno = 23,principal= 45, reserva= 70))\n",
    "\n"
   ]
  }
 ],
 "metadata": {
  "interpreter": {
   "hash": "aee8b7b246df8f9039afb4144a1f6fd8d2ca17a180786b69acc140d282b71a49"
  },
  "kernelspec": {
   "display_name": "Python 3.9.10 64-bit",
   "language": "python",
   "name": "python3"
  },
  "language_info": {
   "codemirror_mode": {
    "name": "ipython",
    "version": 3
   },
   "file_extension": ".py",
   "mimetype": "text/x-python",
   "name": "python",
   "nbconvert_exporter": "python",
   "pygments_lexer": "ipython3",
   "version": "3.9.10"
  },
  "orig_nbformat": 4
 },
 "nbformat": 4,
 "nbformat_minor": 2
}
