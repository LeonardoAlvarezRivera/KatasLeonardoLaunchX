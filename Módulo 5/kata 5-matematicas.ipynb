{
 "cells": [
  {
   "cell_type": "markdown",
   "metadata": {},
   "source": [
    "## Ejercicio 1- Utilizar operadores aritméticos"
   ]
  },
  {
   "cell_type": "code",
   "execution_count": 21,
   "metadata": {},
   "outputs": [
    {
     "name": "stdout",
     "output_type": "stream",
     "text": [
      "628949330\n",
      "390577534\n"
     ]
    }
   ],
   "source": [
    "#Datos de entrada\n",
    "distance_earth = 149597870\n",
    "distance_jupyter = 778547200\n",
    "\n",
    "#Operación\n",
    "distance_result = distance_jupyter - distance_earth\n",
    "\n",
    "#km a millas\n",
    "distance_millas = distance_result * 0.621\n",
    "\n",
    "print(distance_result)\n",
    "print(round(distance_millas))"
   ]
  },
  {
   "cell_type": "markdown",
   "metadata": {},
   "source": [
    "## Ejercicio 2: convierte cadenas en números y usa valores absolutos"
   ]
  },
  {
   "cell_type": "code",
   "execution_count": 27,
   "metadata": {},
   "outputs": [
    {
     "name": "stdout",
     "output_type": "stream",
     "text": [
      "2755501200\n"
     ]
    }
   ],
   "source": [
    "#Entrada de datos \n",
    "planet_1 = input(\"Distancia al sol del primer planeta (km)\")\n",
    "planet_2 = input(\"Distancia al sol del segundos planeta (km)\")\n",
    "\n",
    "#Conversión de tipo de datos\n",
    "int_planet_1 = int(planet_1)\n",
    "int_planet_2 = int(planet_2)\n",
    "\n",
    "#Realizar el cálculo y convertir a valor absoluto\n",
    "distance_between_planet = int_planet_1 - int_planet_2\n",
    "\n",
    "distance_between_planet_in_miles = distance_between_planet * 0.621\n",
    "\n",
    "print(round(abs(distance_between_planet_in_miles)))\n"
   ]
  },
  {
   "cell_type": "markdown",
   "metadata": {},
   "source": []
  }
 ],
 "metadata": {
  "interpreter": {
   "hash": "aee8b7b246df8f9039afb4144a1f6fd8d2ca17a180786b69acc140d282b71a49"
  },
  "kernelspec": {
   "display_name": "Python 3.9.10 64-bit",
   "language": "python",
   "name": "python3"
  },
  "language_info": {
   "codemirror_mode": {
    "name": "ipython",
    "version": 3
   },
   "file_extension": ".py",
   "mimetype": "text/x-python",
   "name": "python",
   "nbconvert_exporter": "python",
   "pygments_lexer": "ipython3",
   "version": "3.9.10"
  },
  "orig_nbformat": 4
 },
 "nbformat": 4,
 "nbformat_minor": 2
}
