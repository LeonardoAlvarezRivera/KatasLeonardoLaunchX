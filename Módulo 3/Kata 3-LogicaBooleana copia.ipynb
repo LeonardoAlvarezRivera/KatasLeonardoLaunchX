{
 "cells": [
  {
   "cell_type": "markdown",
   "metadata": {},
   "source": [
    "## Ejercicios - Escribir declaraciones if, else y elif"
   ]
  },
  {
   "cell_type": "code",
   "execution_count": 16,
   "metadata": {},
   "outputs": [
    {
     "name": "stdout",
     "output_type": "stream",
     "text": [
      "Un asteroide se acerca a la Tierra a una velocidad peligrosa\n"
     ]
    }
   ],
   "source": [
    "#Ejercicio 1\n",
    "asteroid_speed = 26\n",
    "if asteroid_speed > 25:\n",
    "    print(\"Un asteroide se acerca a la Tierra a una velocidad peligrosa\")\n",
    "else:\n",
    "    print(\"Todo bien\")\n"
   ]
  },
  {
   "cell_type": "code",
   "execution_count": 18,
   "metadata": {},
   "outputs": [
    {
     "name": "stdout",
     "output_type": "stream",
     "text": [
      "Mira Arriba! Un asteroide viene en camino se puede ver!!\n"
     ]
    }
   ],
   "source": [
    "#Ejercicio 2\n",
    "asteroid_speed = 20\n",
    "if asteroid_speed > 20:\n",
    "    print(\"Mira Arriba! Un asteroide viene en camino se puede ver!!\")\n",
    "elif asteroid_speed == 20:\n",
    "    print(\"Mira Arriba! Un asteroide viene en camino se puede ver!!\")\n",
    "else:\n",
    "    print(\"No hay asteroide\")"
   ]
  },
  {
   "cell_type": "code",
   "execution_count": 5,
   "metadata": {},
   "outputs": [
    {
     "name": "stdout",
     "output_type": "stream",
     "text": [
      "Todo bien\n"
     ]
    }
   ],
   "source": [
    "#Ejercicio 3\n",
    "asteroid_speed = 12\n",
    "asteroid_size = 100\n",
    "\n",
    "if asteroid_speed > 25 and asteroid_size >25:\n",
    "    print(\"Un asteroide peligroso se acerca!!\")\n",
    "elif asteroid_speed >= 20:\n",
    "    print(\"Mira Arriba! Un asteroide viene en camino se puede ver!!\")\n",
    "elif asteroid_size <= 25:\n",
    "    print(\"No hay peligro!!\")\n",
    "else:\n",
    "    print(\"Todo bien\")"
   ]
  }
 ],
 "metadata": {
  "interpreter": {
   "hash": "aee8b7b246df8f9039afb4144a1f6fd8d2ca17a180786b69acc140d282b71a49"
  },
  "kernelspec": {
   "display_name": "Python 3.9.10 64-bit",
   "language": "python",
   "name": "python3"
  },
  "language_info": {
   "codemirror_mode": {
    "name": "ipython",
    "version": 3
   },
   "file_extension": ".py",
   "mimetype": "text/x-python",
   "name": "python",
   "nbconvert_exporter": "python",
   "pygments_lexer": "ipython3",
   "version": "3.9.10"
  },
  "orig_nbformat": 4
 },
 "nbformat": 4,
 "nbformat_minor": 2
}
